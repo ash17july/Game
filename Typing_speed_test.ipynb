{
 "cells": [
  {
   "cell_type": "code",
   "execution_count": 8,
   "metadata": {},
   "outputs": [
    {
     "name": "stdout",
     "output_type": "stream",
     "text": [
      "Ready to test yes/ noyes\n",
      "   ....Typing speed.....\n",
      "Surprisingly Abraham really did nothing important in his life.  He was not a great writer, king, inventor or military leader.  He did nothing except camp out where he was told to \n",
      "                    go and father a few children.  His name is great only because the children became nation\n",
      "\n",
      "\n",
      "Enter :=kjvkdjfv\n",
      "speed: 7 w/sec\n",
      "error 288\n",
      "Ready to test yes/ nono\n",
      "Thank you\n"
     ]
    }
   ],
   "source": [
    "import time\n",
    "from time import *\n",
    "import random as r\n",
    "def mistake(para_test,user_test):\n",
    "    error = 0\n",
    "    for i in range(len(para_test)):\n",
    "        try:\n",
    "            if para_test[i]!= user_test[i]:\n",
    "                error = error+1\n",
    "        except:\n",
    "            error = error+1\n",
    "    return error\n",
    "\n",
    "def speed(times,timee,userinput):\n",
    "    time_delay= timee-times\n",
    "    timer=round(time_delay,2)\n",
    "    speed=len(userinput)/timer\n",
    "    return round(speed)\n",
    "if __name__=='__main__':    \n",
    "    while True:\n",
    "        ck = input(\"Ready to test yes/ no\")\n",
    "        if ck == 'yes':\n",
    "            test = [\"\"\"Surprisingly Abraham really did nothing important in his life.  He was not a great writer, king, inventor or military leader.  He did nothing except camp out where he was told to \n",
    "                    go and father a few children.  His name is great only because the children became nation\"\"\"]\n",
    "            test1=r.choice(test)\n",
    "            print(\"   ....Typing speed.....\")\n",
    "            print(test1)\n",
    "            print()\n",
    "            print()\n",
    "            time1=time()\n",
    "            testinput=input(\"Enter :=\")\n",
    "            time2 = time()\n",
    "            print(\"speed:\",speed(time1,time2,testinput),\"w/sec\")\n",
    "            print(\"error\",mistake(test1,testinput))\n",
    "        elif ck=='no':\n",
    "            print(\"Thank you\")\n",
    "            break\n",
    "        else:\n",
    "            print(\"Wrong input\")"
   ]
  },
  {
   "cell_type": "code",
   "execution_count": null,
   "metadata": {},
   "outputs": [],
   "source": []
  }
 ],
 "metadata": {
  "kernelspec": {
   "display_name": "Python 3",
   "language": "python",
   "name": "python3"
  },
  "language_info": {
   "codemirror_mode": {
    "name": "ipython",
    "version": 3
   },
   "file_extension": ".py",
   "mimetype": "text/x-python",
   "name": "python",
   "nbconvert_exporter": "python",
   "pygments_lexer": "ipython3",
   "version": "3.7.4"
  }
 },
 "nbformat": 4,
 "nbformat_minor": 2
}
