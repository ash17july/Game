{
 "cells": [
  {
   "cell_type": "code",
   "execution_count": null,
   "id": "55fd7f08",
   "metadata": {},
   "outputs": [],
   "source": [
    "#list:\n",
    "#ordered\n",
    "#mutable\n",
    "#heterogenous\n",
    "#duplicate\n"
   ]
  },
  {
   "cell_type": "code",
   "execution_count": null,
   "id": "1f25aea9",
   "metadata": {},
   "outputs": [],
   "source": [
    "#tuple\n",
    "#ordered\n",
    "#immutable\n",
    "#duplicates"
   ]
  },
  {
   "cell_type": "code",
   "execution_count": null,
   "id": "362c2995",
   "metadata": {},
   "outputs": [],
   "source": [
    "#strings\n",
    "#immutable\n",
    "#slicing"
   ]
  },
  {
   "cell_type": "code",
   "execution_count": null,
   "id": "27a7c515",
   "metadata": {},
   "outputs": [],
   "source": [
    "#set\n",
    "#unordered\n",
    "#unique\n",
    "#mutable"
   ]
  },
  {
   "cell_type": "code",
   "execution_count": null,
   "id": "c655c349",
   "metadata": {},
   "outputs": [],
   "source": [
    "#dic\n",
    "#mutable\n",
    "#unique\n",
    "#ordered"
   ]
  },
  {
   "cell_type": "code",
   "execution_count": null,
   "id": "90845ebd",
   "metadata": {},
   "outputs": [],
   "source": [
    "from plyer import notification\n",
    "import time\n",
    "if__name__='__main__':\n",
    "    notification.notify(\n",
    "    title='Heading Here',\n",
    "    message='Description here',\n",
    "    timeout=2)\n",
    "time.sleep(7)"
   ]
  },
  {
   "cell_type": "code",
   "execution_count": null,
   "id": "984f69c8",
   "metadata": {},
   "outputs": [],
   "source": [
    "from tkinter import *\n",
    "from time import *\n",
    "def notify():\n",
    "    t=time.time()\n",
    "    t1=time.time()-t\n",
    "    if t1<6:\n",
    "        print(\"Please have a water\")\n",
    "    elif t1>10:\n",
    "        print(\"notify me if you had a drink\")\n",
    "rt = Tk()\n",
    "rt.geometry('400x300')\n",
    "\n",
    "b=Button(fg='red',text='Click',command=notify).grid(row=0,column=0)\n",
    "rt.mainloop()"
   ]
  },
  {
   "cell_type": "code",
   "execution_count": null,
   "id": "20119b78",
   "metadata": {},
   "outputs": [],
   "source": [
    "import string\n",
    "import random\n",
    "lists=['A','B','C','D','E','F','G','H','I','J','K','L','M','N','O','P','Q','R','S','T','U','V','W','X','Y','Z','a','b','c','d','e','f','g','h','i','j','k','l','m','n','o','p','q','r','s','t','u','v','w','x','y','z','1','2','3','4','5','6','7','8','9','/','*','-','+','/','?']\n",
    "c=int(input(\"Enter the length of a password\"))\n",
    "random.shuffle(lists)\n",
    "pwd=[]\n",
    "for x in range(c):\n",
    "    pwd.append(random.choice(lists))\n",
    "random.shuffle(pwd)\n",
    "print(''.join(pwd))"
   ]
  },
  {
   "cell_type": "code",
   "execution_count": null,
   "id": "d1dbf90f",
   "metadata": {},
   "outputs": [],
   "source": [
    "import random\n",
    "cnumber=random.randrange(1,101)\n",
    "user_num=int(input(\"Enter the number\"))\n",
    "if user_num>cnumber:\n",
    "    print(\"computer number \",cnumber)\n",
    "    print('your guess number is too high')\n",
    "elif user_num<cnumber:\n",
    "    print(\"computer number \",cnumber)\n",
    "    print('your guess number is too low')\n",
    "else:\n",
    "    print('computer number',cnumber)\n",
    "    print('your guess number is equal')\n"
   ]
  },
  {
   "cell_type": "code",
   "execution_count": null,
   "id": "e85defab",
   "metadata": {},
   "outputs": [],
   "source": [
    "import time\n",
    "localtime=time.asctime(time.localtime(time.time()))\n",
    "print('Local time is',localtime)"
   ]
  },
  {
   "cell_type": "code",
   "execution_count": null,
   "id": "78efd98c",
   "metadata": {},
   "outputs": [],
   "source": [
    "from os.path import dirname,join\n",
    "import plyer\n",
    "import time\n",
    "import datetime\n",
    "import threading\n",
    "def notify():\n",
    "    while True:\n",
    "        plyer.notification.notify(title='covid 19 cases of india',message=get_corona_details_of_india(),timeout=10,app_icon='icon.ico')\n",
    "        time.sleep(30)"
   ]
  },
  {
   "cell_type": "code",
   "execution_count": null,
   "id": "2a853140",
   "metadata": {},
   "outputs": [],
   "source": [
    "import turtle\n",
    "skk=turtle.Turtle()\n",
    "for i in range(4):\n",
    "    skk.forward(50)\n",
    "    skk.right(90)\n",
    "turtle.done()"
   ]
  },
  {
   "cell_type": "code",
   "execution_count": null,
   "id": "bead9158",
   "metadata": {
    "scrolled": true
   },
   "outputs": [],
   "source": [
    "import turtle\n",
    "sk=turtle.Turtle()\n",
    "sk.right(75)\n",
    "sk.forward(100)\n",
    "for i in range(4):\n",
    "    sk.right(144)\n",
    "    sk.forward(100)\n",
    "turtle.done()"
   ]
  },
  {
   "cell_type": "code",
   "execution_count": null,
   "id": "ad6d9bfb",
   "metadata": {},
   "outputs": [],
   "source": [
    "import turtle\n",
    "p=turtle.Turtle()\n",
    "num=6\n",
    "side=70\n",
    "angle=360.0/num\n",
    "for i in range(num):\n",
    "    p.forward(side)\n",
    "    p.right(angle)\n",
    "turtle.done()"
   ]
  },
  {
   "cell_type": "code",
   "execution_count": null,
   "id": "03b63d67",
   "metadata": {},
   "outputs": [],
   "source": [
    "import turtle\n",
    "loadwindow=turtle.Screen()\n",
    "turtle.speed(2)\n",
    "for i in range(100):\n",
    "    turtle.circle(5*i)\n",
    "    turtle.circle(-5*i)\n",
    "    turtle.left(i)\n",
    "turtle.exitonclick()"
   ]
  },
  {
   "cell_type": "code",
   "execution_count": null,
   "id": "4ff112c5",
   "metadata": {},
   "outputs": [],
   "source": [
    "import turtle\n",
    "colors=['red', 'purple', 'blue', 'green', 'orange', 'yellow']\n",
    "t=turtle.Pen()\n",
    "turtle.bgcolor('black')\n",
    "for x in range(360):\n",
    "    t.pencolor(colors[x%6])\n",
    "    t.width(x//100+1)\n",
    "    t.forward(x)\n",
    "    t.left(59)"
   ]
  },
  {
   "cell_type": "code",
   "execution_count": null,
   "id": "146f2041",
   "metadata": {},
   "outputs": [],
   "source": []
  }
 ],
 "metadata": {
  "kernelspec": {
   "display_name": "Python 3 (ipykernel)",
   "language": "python",
   "name": "python3"
  },
  "language_info": {
   "codemirror_mode": {
    "name": "ipython",
    "version": 3
   },
   "file_extension": ".py",
   "mimetype": "text/x-python",
   "name": "python",
   "nbconvert_exporter": "python",
   "pygments_lexer": "ipython3",
   "version": "3.9.7"
  }
 },
 "nbformat": 4,
 "nbformat_minor": 5
}
