{
 "cells": [
  {
   "cell_type": "code",
   "execution_count": 6,
   "metadata": {},
   "outputs": [
    {
     "name": "stdout",
     "output_type": "stream",
     "text": [
      "Enter the number:-48\n",
      "Computer number :- 64\n",
      "Your guess number is too low\n"
     ]
    }
   ],
   "source": [
    "import random\n",
    "cnumber = random.randrange(1,101)\n",
    "user_num = int(input(\"Enter the number:-\"))\n",
    "if user_num>cnumber:\n",
    "    print(\"Computer number :-\",cnumber)\n",
    "    print(\"Your guess number is too high\")\n",
    "elif user_num<cnumber:\n",
    "    print(\"Computer number :-\",cnumber)\n",
    "    print(\"Your guess number is too low\")\n",
    "else:\n",
    "    print(\"Computer number :-\",cnumber)\n",
    "    print(\"Your guess number is equal\")"
   ]
  },
  {
   "cell_type": "code",
   "execution_count": null,
   "metadata": {},
   "outputs": [],
   "source": []
  }
 ],
 "metadata": {
  "kernelspec": {
   "display_name": "Python 3",
   "language": "python",
   "name": "python3"
  },
  "language_info": {
   "codemirror_mode": {
    "name": "ipython",
    "version": 3
   },
   "file_extension": ".py",
   "mimetype": "text/x-python",
   "name": "python",
   "nbconvert_exporter": "python",
   "pygments_lexer": "ipython3",
   "version": "3.7.4"
  }
 },
 "nbformat": 4,
 "nbformat_minor": 2
}
