{
 "cells": [
  {
   "cell_type": "code",
   "execution_count": null,
   "metadata": {},
   "outputs": [
    {
     "name": "stdout",
     "output_type": "stream",
     "text": [
      "\n",
      "Game Start......\n",
      "1 Yes\n",
      "2 No | Exit\n",
      "    \n",
      "    1\n",
      "\n",
      "1 Rock\n",
      "2 Scissor\n",
      "3 Paper\n",
      "2\n",
      "Computer value:- Paper\n",
      "User value:- scissor\n",
      "Computer win this round\n",
      "Final Computer win the game\n",
      "User score 0\n",
      "Computer score 1\n"
     ]
    }
   ],
   "source": [
    "import random\n",
    "l = ['Rock', 'Paper', 'Scissor']\n",
    "#Rock vs paper -> paper wins\n",
    "#rock vs scissor -> rock wins\n",
    "#paper vs scissor -> scissor wins\n",
    "while True:\n",
    "    ccount = 0\n",
    "    ucount = 0\n",
    "    uchoice = int(input('''\n",
    "Game Start......\n",
    "1 Yes\n",
    "2 No | Exit\n",
    "    \n",
    "    '''))\n",
    "    \n",
    "    if uchoice == 1:\n",
    "        for a in range(1,6):\n",
    "            userInput = int(input('''\n",
    "1 Rock\n",
    "2 Scissor\n",
    "3 Paper\n",
    "'''))\n",
    "            if userInput == 1:\n",
    "                uchoice = 'rock'\n",
    "            elif userInput == 2:\n",
    "                uchoice = 'scissor'\n",
    "            elif userInput == 3:\n",
    "                uchoice = 'paper'\n",
    "            cchoice = random.choice(l)\n",
    "            \n",
    "            if uchoice == cchoice:\n",
    "                print(\"Computer value:-\",cchoice)\n",
    "                print(\"User value:-\",uchoice)\n",
    "                print(\"Game Draw\")\n",
    "                ucount = ucount + 1\n",
    "                ccount = ccount + 1\n",
    "                    \n",
    "            elif (uchoice == 'rock' and cchoice == 'scissor') or\n",
    "                (uchoice == 'paper' and cchoice == 'rock') or\n",
    "                (uchoice == 'scissor' and cchoice == 'paper'):\n",
    "                print(\"Computer value:-\",cchoice)\n",
    "                print(\"User value:-\",uchoice)\n",
    "                print(\"You Win this round\")\n",
    "                ucount = ucount + 1\n",
    "            else:\n",
    "                print(\"Computer value:-\",cchoice)\n",
    "                print(\"User value:-\",uchoice)\n",
    "                print(\"Computer win this round\")\n",
    "                ccount = ccount + 1\n",
    "                \n",
    "                if ucount == ccount:\n",
    "                    print(\"Final Game draw\")\n",
    "                    print('User score',ucount)\n",
    "                    print(\"Computer score\",ccount)\n",
    "                elif ucount > ccount:\n",
    "                    print(\"Final You win the game\")\n",
    "                    print('User score',ucount)\n",
    "                    print(\"Computer score\",ccount)\n",
    "                else:\n",
    "                    print(\"Final Computer win the game\")\n",
    "                    print('User score',ucount)\n",
    "                    print(\"Computer score\",ccount)\n",
    "                                    \n",
    "    else:\n",
    "        break"
   ]
  },
  {
   "cell_type": "code",
   "execution_count": null,
   "metadata": {},
   "outputs": [],
   "source": []
  },
  {
   "cell_type": "code",
   "execution_count": null,
   "metadata": {},
   "outputs": [],
   "source": []
  }
 ],
 "metadata": {
  "kernelspec": {
   "display_name": "Python 3",
   "language": "python",
   "name": "python3"
  },
  "language_info": {
   "codemirror_mode": {
    "name": "ipython",
    "version": 3
   },
   "file_extension": ".py",
   "mimetype": "text/x-python",
   "name": "python",
   "nbconvert_exporter": "python",
   "pygments_lexer": "ipython3",
   "version": "3.7.4"
  }
 },
 "nbformat": 4,
 "nbformat_minor": 2
}
