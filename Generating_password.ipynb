{
 "cells": [
  {
   "cell_type": "code",
   "execution_count": 6,
   "id": "5b7b57c6",
   "metadata": {},
   "outputs": [
    {
     "name": "stdout",
     "output_type": "stream",
     "text": [
      "Enter the length of a password:5\n",
      "envtu\n"
     ]
    }
   ],
   "source": [
    "import string\n",
    "import random\n",
    "names=['a','b','c','d','e','f','g','h','i','j','k','l','m','n','o','p','q','r','s','t','u','v','w','x','y','z']\n",
    "len1=int(input(\"Enter the length of a password:\"))\n",
    "random.shuffle(names)\n",
    "emptylist=[]\n",
    "for x in range(len1):\n",
    "    emptylist.append(random.choice(names))\n",
    "random.shuffle(emptylist)\n",
    "print(\"\".join(emptylist))\n"
   ]
  },
  {
   "cell_type": "code",
   "execution_count": null,
   "id": "67a54148",
   "metadata": {},
   "outputs": [],
   "source": [
    "im"
   ]
  },
  {
   "cell_type": "code",
   "execution_count": null,
   "id": "2aec88d6",
   "metadata": {},
   "outputs": [],
   "source": []
  }
 ],
 "metadata": {
  "kernelspec": {
   "display_name": "Python 3 (ipykernel)",
   "language": "python",
   "name": "python3"
  },
  "language_info": {
   "codemirror_mode": {
    "name": "ipython",
    "version": 3
   },
   "file_extension": ".py",
   "mimetype": "text/x-python",
   "name": "python",
   "nbconvert_exporter": "python",
   "pygments_lexer": "ipython3",
   "version": "3.9.7"
  }
 },
 "nbformat": 4,
 "nbformat_minor": 5
}
